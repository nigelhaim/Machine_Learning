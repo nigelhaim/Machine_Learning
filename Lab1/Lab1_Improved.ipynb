{
 "cells": [
  {
   "cell_type": "markdown",
   "id": "e3708718-8261-4c46-b335-23216e214e5d",
   "metadata": {},
   "source": [
    "# Lab Exercise 1 \n",
    "## Predicting House prices\n",
    "### Submitted by: Nigel Haim N. Sebastian"
   ]
  },
  {
   "cell_type": "markdown",
   "id": "f0a49987-5c84-4029-b735-b7ec7a61666f",
   "metadata": {},
   "source": [
    "#### Importing \n",
    "- When Imported pandas it prompts me that \"Pyarrow will become a required dependency of pandas in the next major release of pandas (pandas 3.0)\""
   ]
  },
  {
   "cell_type": "code",
   "execution_count": 908,
   "id": "82987715-ee42-478b-9796-b8564af97530",
   "metadata": {},
   "outputs": [],
   "source": [
    "import numpy as np\n",
    "import pandas as pd\n",
    "import matplotlib.pyplot as plt\n",
    "import seaborn as sns\n",
    "import numpy\n",
    "\n",
    "from sklearn.preprocessing import StandardScaler, minmax_scale\n",
    "from sklearn.metrics import mean_squared_error, r2_score\n",
    "from sklearn.model_selection import train_test_split\n",
    "from sklearn import linear_model"
   ]
  },
  {
   "cell_type": "markdown",
   "id": "1388c702-a5e7-42f6-b501-f4dffeaacd0b",
   "metadata": {},
   "source": [
    "### Loading and checking the dataset "
   ]
  },
  {
   "cell_type": "code",
   "execution_count": 909,
   "id": "48303a78-2778-471d-8a05-2f9fca872fef",
   "metadata": {},
   "outputs": [
    {
     "data": {
      "text/plain": [
       "Posted On   BHK  Rent    Size  Floor            Area Type    Area Locality                  City       Furnishing Status  Tenant Preferred  Bathroom  Point of Contact\n",
       "2022-04-13  3    260000  1800  10 out of 11     Carpet Area  JVPD Scheme                    Mumbai     Furnished          Family            4         Contact Agent       1\n",
       "2022-06-22  3    17000   1200  Ground out of 2  Super Area   Selaiyur                       Chennai    Unfurnished        Bachelors/Family  3         Contact Owner       1\n",
       "                 15000   2200  1 out of 2       Super Area   Irumbuliyur                    Chennai    Unfurnished        Bachelors         3         Contact Owner       1\n",
       "                         1850  1 out of 1       Super Area   Tarapuri Colony, Secunderabad  Hyderabad  Semi-Furnished     Bachelors/Family  2         Contact Owner       1\n",
       "                 13000   900   1 out of 4       Super Area   Perambur                       Chennai    Unfurnished        Bachelors/Family  1         Contact Owner       1\n",
       "                                                                                                                                                                         ..\n",
       "2022-05-26  4    37000   2700  2 out of 3       Carpet Area  AGCR Enclave, Anand Vihar      Delhi      Semi-Furnished     Bachelors/Family  4         Contact Agent       1\n",
       "            3    80000   2000  3 out of 4       Carpet Area  Sarvodaya Enclave              Delhi      Unfurnished        Bachelors/Family  3         Contact Agent       1\n",
       "                 69999   950   7 out of 12      Carpet Area  Chembur East                   Mumbai     Unfurnished        Family            3         Contact Agent       1\n",
       "                 37000   1800  1 out of 4       Carpet Area  Preet Vihar                    Delhi      Semi-Furnished     Bachelors/Family  3         Contact Agent       1\n",
       "2022-07-11  2    12000   550   Ground out of 1  Super Area   Choolaimedu                    Chennai    Unfurnished        Bachelors/Family  2         Contact Owner       1\n",
       "Name: count, Length: 4746, dtype: int64"
      ]
     },
     "execution_count": 909,
     "metadata": {},
     "output_type": "execute_result"
    }
   ],
   "source": [
    "data = pd.read_csv(\"House_Rent_Dataset.csv\")\n",
    "# data.head(10)\n",
    "data.value_counts()"
   ]
  },
  {
   "cell_type": "code",
   "execution_count": 910,
   "id": "c242ed42",
   "metadata": {},
   "outputs": [
    {
     "name": "stdout",
     "output_type": "stream",
     "text": [
      "<class 'pandas.core.frame.DataFrame'>\n",
      "RangeIndex: 4746 entries, 0 to 4745\n",
      "Data columns (total 12 columns):\n",
      " #   Column             Non-Null Count  Dtype \n",
      "---  ------             --------------  ----- \n",
      " 0   Posted On          4746 non-null   object\n",
      " 1   BHK                4746 non-null   int64 \n",
      " 2   Rent               4746 non-null   int64 \n",
      " 3   Size               4746 non-null   int64 \n",
      " 4   Floor              4746 non-null   object\n",
      " 5   Area Type          4746 non-null   object\n",
      " 6   Area Locality      4746 non-null   object\n",
      " 7   City               4746 non-null   object\n",
      " 8   Furnishing Status  4746 non-null   object\n",
      " 9   Tenant Preferred   4746 non-null   object\n",
      " 10  Bathroom           4746 non-null   int64 \n",
      " 11  Point of Contact   4746 non-null   object\n",
      "dtypes: int64(4), object(8)\n",
      "memory usage: 445.1+ KB\n"
     ]
    }
   ],
   "source": [
    "data.info()"
   ]
  },
  {
   "cell_type": "markdown",
   "id": "68bc0711",
   "metadata": {},
   "source": [
    "# Check for any errors in the floor\n",
    "\n",
    "- Lowerbasement 0 \n",
    "- Upperbasement 1\n",
    "- Ground 2\n",
    "- 1 and up \n",
    "- The type of the row is string\n",
    "Investigating the data I have discovered that there are words of Ground, Upper Basement and lower basement therefore I have to convert them into integers before I get their floor score. There are also data that are only one there is no comparison for it. I dropped the data \n",
    "\n",
    "there is also that it only states \"Ground\" \n",
    "\n",
    "Just like looking at the buttons of an elevator (disregarding the superstition of the 'Thirteenth floor') we assume that if there is a data of \"Lower Basement out of 10\" then we add 2 more floors since there are additional 2 more underground floors even tho if the elevator states its only up to number 10. We include the underground floors. \n",
    "\n",
    "Ground floor will be 0 indicates 1 as the first floor \n",
    "\n",
    "When the left side is an integer therefore we already assume that it is in the correct format \n",
    "\n",
    "From 4746 we have 3 single digit values drop them "
   ]
  },
  {
   "cell_type": "code",
   "execution_count": 911,
   "id": "960f34d2",
   "metadata": {},
   "outputs": [
    {
     "name": "stdout",
     "output_type": "stream",
     "text": [
      "<class 'pandas.core.frame.DataFrame'>\n",
      "Index: 4732 entries, 0 to 4745\n",
      "Data columns (total 12 columns):\n",
      " #   Column             Non-Null Count  Dtype  \n",
      "---  ------             --------------  -----  \n",
      " 0   Posted On          4732 non-null   object \n",
      " 1   BHK                4732 non-null   int64  \n",
      " 2   Rent               4732 non-null   int64  \n",
      " 3   Size               4732 non-null   int64  \n",
      " 4   Floor              4732 non-null   float64\n",
      " 5   Area Type          4732 non-null   object \n",
      " 6   Area Locality      4732 non-null   object \n",
      " 7   City               4732 non-null   object \n",
      " 8   Furnishing Status  4732 non-null   object \n",
      " 9   Tenant Preferred   4732 non-null   object \n",
      " 10  Bathroom           4732 non-null   int64  \n",
      " 11  Point of Contact   4732 non-null   object \n",
      "dtypes: float64(1), int64(4), object(7)\n",
      "memory usage: 480.6+ KB\n"
     ]
    },
    {
     "data": {
      "text/html": [
       "<div>\n",
       "<style scoped>\n",
       "    .dataframe tbody tr th:only-of-type {\n",
       "        vertical-align: middle;\n",
       "    }\n",
       "\n",
       "    .dataframe tbody tr th {\n",
       "        vertical-align: top;\n",
       "    }\n",
       "\n",
       "    .dataframe thead th {\n",
       "        text-align: right;\n",
       "    }\n",
       "</style>\n",
       "<table border=\"1\" class=\"dataframe\">\n",
       "  <thead>\n",
       "    <tr style=\"text-align: right;\">\n",
       "      <th></th>\n",
       "      <th>Posted On</th>\n",
       "      <th>BHK</th>\n",
       "      <th>Rent</th>\n",
       "      <th>Size</th>\n",
       "      <th>Floor</th>\n",
       "      <th>Area Type</th>\n",
       "      <th>Area Locality</th>\n",
       "      <th>City</th>\n",
       "      <th>Furnishing Status</th>\n",
       "      <th>Tenant Preferred</th>\n",
       "      <th>Bathroom</th>\n",
       "      <th>Point of Contact</th>\n",
       "    </tr>\n",
       "  </thead>\n",
       "  <tbody>\n",
       "    <tr>\n",
       "      <th>0</th>\n",
       "      <td>2022-05-18</td>\n",
       "      <td>2</td>\n",
       "      <td>10000</td>\n",
       "      <td>1100</td>\n",
       "      <td>0.500000</td>\n",
       "      <td>Super Area</td>\n",
       "      <td>Bandel</td>\n",
       "      <td>Kolkata</td>\n",
       "      <td>Unfurnished</td>\n",
       "      <td>Bachelors/Family</td>\n",
       "      <td>2</td>\n",
       "      <td>Contact Owner</td>\n",
       "    </tr>\n",
       "    <tr>\n",
       "      <th>1</th>\n",
       "      <td>2022-05-13</td>\n",
       "      <td>2</td>\n",
       "      <td>20000</td>\n",
       "      <td>800</td>\n",
       "      <td>0.333333</td>\n",
       "      <td>Super Area</td>\n",
       "      <td>Phool Bagan, Kankurgachi</td>\n",
       "      <td>Kolkata</td>\n",
       "      <td>Semi-Furnished</td>\n",
       "      <td>Bachelors/Family</td>\n",
       "      <td>1</td>\n",
       "      <td>Contact Owner</td>\n",
       "    </tr>\n",
       "    <tr>\n",
       "      <th>2</th>\n",
       "      <td>2022-05-16</td>\n",
       "      <td>2</td>\n",
       "      <td>17000</td>\n",
       "      <td>1000</td>\n",
       "      <td>0.333333</td>\n",
       "      <td>Super Area</td>\n",
       "      <td>Salt Lake City Sector 2</td>\n",
       "      <td>Kolkata</td>\n",
       "      <td>Semi-Furnished</td>\n",
       "      <td>Bachelors/Family</td>\n",
       "      <td>1</td>\n",
       "      <td>Contact Owner</td>\n",
       "    </tr>\n",
       "    <tr>\n",
       "      <th>3</th>\n",
       "      <td>2022-07-04</td>\n",
       "      <td>2</td>\n",
       "      <td>10000</td>\n",
       "      <td>800</td>\n",
       "      <td>0.500000</td>\n",
       "      <td>Super Area</td>\n",
       "      <td>Dumdum Park</td>\n",
       "      <td>Kolkata</td>\n",
       "      <td>Unfurnished</td>\n",
       "      <td>Bachelors/Family</td>\n",
       "      <td>1</td>\n",
       "      <td>Contact Owner</td>\n",
       "    </tr>\n",
       "    <tr>\n",
       "      <th>4</th>\n",
       "      <td>2022-05-09</td>\n",
       "      <td>2</td>\n",
       "      <td>7500</td>\n",
       "      <td>850</td>\n",
       "      <td>0.500000</td>\n",
       "      <td>Carpet Area</td>\n",
       "      <td>South Dum Dum</td>\n",
       "      <td>Kolkata</td>\n",
       "      <td>Unfurnished</td>\n",
       "      <td>Bachelors</td>\n",
       "      <td>1</td>\n",
       "      <td>Contact Owner</td>\n",
       "    </tr>\n",
       "    <tr>\n",
       "      <th>5</th>\n",
       "      <td>2022-04-29</td>\n",
       "      <td>2</td>\n",
       "      <td>7000</td>\n",
       "      <td>600</td>\n",
       "      <td>1.000000</td>\n",
       "      <td>Super Area</td>\n",
       "      <td>Thakurpukur</td>\n",
       "      <td>Kolkata</td>\n",
       "      <td>Unfurnished</td>\n",
       "      <td>Bachelors/Family</td>\n",
       "      <td>2</td>\n",
       "      <td>Contact Owner</td>\n",
       "    </tr>\n",
       "    <tr>\n",
       "      <th>6</th>\n",
       "      <td>2022-06-21</td>\n",
       "      <td>2</td>\n",
       "      <td>10000</td>\n",
       "      <td>700</td>\n",
       "      <td>0.250000</td>\n",
       "      <td>Super Area</td>\n",
       "      <td>Malancha</td>\n",
       "      <td>Kolkata</td>\n",
       "      <td>Unfurnished</td>\n",
       "      <td>Bachelors</td>\n",
       "      <td>2</td>\n",
       "      <td>Contact Agent</td>\n",
       "    </tr>\n",
       "    <tr>\n",
       "      <th>7</th>\n",
       "      <td>2022-06-21</td>\n",
       "      <td>1</td>\n",
       "      <td>5000</td>\n",
       "      <td>250</td>\n",
       "      <td>0.500000</td>\n",
       "      <td>Super Area</td>\n",
       "      <td>Malancha</td>\n",
       "      <td>Kolkata</td>\n",
       "      <td>Unfurnished</td>\n",
       "      <td>Bachelors</td>\n",
       "      <td>1</td>\n",
       "      <td>Contact Agent</td>\n",
       "    </tr>\n",
       "    <tr>\n",
       "      <th>8</th>\n",
       "      <td>2022-06-07</td>\n",
       "      <td>2</td>\n",
       "      <td>26000</td>\n",
       "      <td>800</td>\n",
       "      <td>0.500000</td>\n",
       "      <td>Carpet Area</td>\n",
       "      <td>Palm Avenue Kolkata, Ballygunge</td>\n",
       "      <td>Kolkata</td>\n",
       "      <td>Unfurnished</td>\n",
       "      <td>Bachelors</td>\n",
       "      <td>2</td>\n",
       "      <td>Contact Agent</td>\n",
       "    </tr>\n",
       "    <tr>\n",
       "      <th>9</th>\n",
       "      <td>2022-06-20</td>\n",
       "      <td>2</td>\n",
       "      <td>10000</td>\n",
       "      <td>1000</td>\n",
       "      <td>0.333333</td>\n",
       "      <td>Carpet Area</td>\n",
       "      <td>Natunhat</td>\n",
       "      <td>Kolkata</td>\n",
       "      <td>Semi-Furnished</td>\n",
       "      <td>Bachelors/Family</td>\n",
       "      <td>2</td>\n",
       "      <td>Contact Owner</td>\n",
       "    </tr>\n",
       "    <tr>\n",
       "      <th>10</th>\n",
       "      <td>2022-05-23</td>\n",
       "      <td>3</td>\n",
       "      <td>25000</td>\n",
       "      <td>1200</td>\n",
       "      <td>0.250000</td>\n",
       "      <td>Carpet Area</td>\n",
       "      <td>Action Area 1, Rajarhat Newtown</td>\n",
       "      <td>Kolkata</td>\n",
       "      <td>Semi-Furnished</td>\n",
       "      <td>Bachelors/Family</td>\n",
       "      <td>2</td>\n",
       "      <td>Contact Agent</td>\n",
       "    </tr>\n",
       "    <tr>\n",
       "      <th>11</th>\n",
       "      <td>2022-06-07</td>\n",
       "      <td>1</td>\n",
       "      <td>5000</td>\n",
       "      <td>400</td>\n",
       "      <td>1.000000</td>\n",
       "      <td>Carpet Area</td>\n",
       "      <td>Keshtopur</td>\n",
       "      <td>Kolkata</td>\n",
       "      <td>Unfurnished</td>\n",
       "      <td>Bachelors/Family</td>\n",
       "      <td>1</td>\n",
       "      <td>Contact Agent</td>\n",
       "    </tr>\n",
       "    <tr>\n",
       "      <th>12</th>\n",
       "      <td>2022-05-14</td>\n",
       "      <td>1</td>\n",
       "      <td>6500</td>\n",
       "      <td>250</td>\n",
       "      <td>0.250000</td>\n",
       "      <td>Carpet Area</td>\n",
       "      <td>Tarulia, Keshtopur</td>\n",
       "      <td>Kolkata</td>\n",
       "      <td>Furnished</td>\n",
       "      <td>Bachelors</td>\n",
       "      <td>1</td>\n",
       "      <td>Contact Owner</td>\n",
       "    </tr>\n",
       "    <tr>\n",
       "      <th>13</th>\n",
       "      <td>2022-05-09</td>\n",
       "      <td>1</td>\n",
       "      <td>5500</td>\n",
       "      <td>375</td>\n",
       "      <td>0.500000</td>\n",
       "      <td>Carpet Area</td>\n",
       "      <td>Dum Dum Metro</td>\n",
       "      <td>Kolkata</td>\n",
       "      <td>Unfurnished</td>\n",
       "      <td>Bachelors/Family</td>\n",
       "      <td>1</td>\n",
       "      <td>Contact Agent</td>\n",
       "    </tr>\n",
       "    <tr>\n",
       "      <th>14</th>\n",
       "      <td>2022-05-05</td>\n",
       "      <td>3</td>\n",
       "      <td>8500</td>\n",
       "      <td>900</td>\n",
       "      <td>0.500000</td>\n",
       "      <td>Carpet Area</td>\n",
       "      <td>Paschim Barisha</td>\n",
       "      <td>Kolkata</td>\n",
       "      <td>Unfurnished</td>\n",
       "      <td>Bachelors</td>\n",
       "      <td>2</td>\n",
       "      <td>Contact Owner</td>\n",
       "    </tr>\n",
       "    <tr>\n",
       "      <th>15</th>\n",
       "      <td>2022-06-01</td>\n",
       "      <td>3</td>\n",
       "      <td>40000</td>\n",
       "      <td>1286</td>\n",
       "      <td>1.000000</td>\n",
       "      <td>Carpet Area</td>\n",
       "      <td>New Town Action Area 1</td>\n",
       "      <td>Kolkata</td>\n",
       "      <td>Furnished</td>\n",
       "      <td>Bachelors/Family</td>\n",
       "      <td>2</td>\n",
       "      <td>Contact Owner</td>\n",
       "    </tr>\n",
       "    <tr>\n",
       "      <th>16</th>\n",
       "      <td>2022-05-17</td>\n",
       "      <td>2</td>\n",
       "      <td>6000</td>\n",
       "      <td>600</td>\n",
       "      <td>0.500000</td>\n",
       "      <td>Super Area</td>\n",
       "      <td>Barasat</td>\n",
       "      <td>Kolkata</td>\n",
       "      <td>Semi-Furnished</td>\n",
       "      <td>Bachelors/Family</td>\n",
       "      <td>1</td>\n",
       "      <td>Contact Owner</td>\n",
       "    </tr>\n",
       "    <tr>\n",
       "      <th>17</th>\n",
       "      <td>2022-06-20</td>\n",
       "      <td>2</td>\n",
       "      <td>10000</td>\n",
       "      <td>800</td>\n",
       "      <td>0.500000</td>\n",
       "      <td>Super Area</td>\n",
       "      <td>Behala</td>\n",
       "      <td>Kolkata</td>\n",
       "      <td>Unfurnished</td>\n",
       "      <td>Bachelors/Family</td>\n",
       "      <td>1</td>\n",
       "      <td>Contact Owner</td>\n",
       "    </tr>\n",
       "    <tr>\n",
       "      <th>18</th>\n",
       "      <td>2022-06-09</td>\n",
       "      <td>2</td>\n",
       "      <td>11000</td>\n",
       "      <td>2000</td>\n",
       "      <td>0.333333</td>\n",
       "      <td>Carpet Area</td>\n",
       "      <td>Behala Chowrasta</td>\n",
       "      <td>Kolkata</td>\n",
       "      <td>Unfurnished</td>\n",
       "      <td>Bachelors/Family</td>\n",
       "      <td>1</td>\n",
       "      <td>Contact Owner</td>\n",
       "    </tr>\n",
       "    <tr>\n",
       "      <th>19</th>\n",
       "      <td>2022-06-09</td>\n",
       "      <td>2</td>\n",
       "      <td>6000</td>\n",
       "      <td>660</td>\n",
       "      <td>0.500000</td>\n",
       "      <td>Super Area</td>\n",
       "      <td>Behala</td>\n",
       "      <td>Kolkata</td>\n",
       "      <td>Unfurnished</td>\n",
       "      <td>Bachelors/Family</td>\n",
       "      <td>1</td>\n",
       "      <td>Contact Owner</td>\n",
       "    </tr>\n",
       "  </tbody>\n",
       "</table>\n",
       "</div>"
      ],
      "text/plain": [
       "     Posted On  BHK   Rent  Size     Floor    Area Type  \\\n",
       "0   2022-05-18    2  10000  1100  0.500000   Super Area   \n",
       "1   2022-05-13    2  20000   800  0.333333   Super Area   \n",
       "2   2022-05-16    2  17000  1000  0.333333   Super Area   \n",
       "3   2022-07-04    2  10000   800  0.500000   Super Area   \n",
       "4   2022-05-09    2   7500   850  0.500000  Carpet Area   \n",
       "5   2022-04-29    2   7000   600  1.000000   Super Area   \n",
       "6   2022-06-21    2  10000   700  0.250000   Super Area   \n",
       "7   2022-06-21    1   5000   250  0.500000   Super Area   \n",
       "8   2022-06-07    2  26000   800  0.500000  Carpet Area   \n",
       "9   2022-06-20    2  10000  1000  0.333333  Carpet Area   \n",
       "10  2022-05-23    3  25000  1200  0.250000  Carpet Area   \n",
       "11  2022-06-07    1   5000   400  1.000000  Carpet Area   \n",
       "12  2022-05-14    1   6500   250  0.250000  Carpet Area   \n",
       "13  2022-05-09    1   5500   375  0.500000  Carpet Area   \n",
       "14  2022-05-05    3   8500   900  0.500000  Carpet Area   \n",
       "15  2022-06-01    3  40000  1286  1.000000  Carpet Area   \n",
       "16  2022-05-17    2   6000   600  0.500000   Super Area   \n",
       "17  2022-06-20    2  10000   800  0.500000   Super Area   \n",
       "18  2022-06-09    2  11000  2000  0.333333  Carpet Area   \n",
       "19  2022-06-09    2   6000   660  0.500000   Super Area   \n",
       "\n",
       "                      Area Locality     City Furnishing Status  \\\n",
       "0                            Bandel  Kolkata       Unfurnished   \n",
       "1          Phool Bagan, Kankurgachi  Kolkata    Semi-Furnished   \n",
       "2           Salt Lake City Sector 2  Kolkata    Semi-Furnished   \n",
       "3                       Dumdum Park  Kolkata       Unfurnished   \n",
       "4                     South Dum Dum  Kolkata       Unfurnished   \n",
       "5                       Thakurpukur  Kolkata       Unfurnished   \n",
       "6                          Malancha  Kolkata       Unfurnished   \n",
       "7                          Malancha  Kolkata       Unfurnished   \n",
       "8   Palm Avenue Kolkata, Ballygunge  Kolkata       Unfurnished   \n",
       "9                          Natunhat  Kolkata    Semi-Furnished   \n",
       "10  Action Area 1, Rajarhat Newtown  Kolkata    Semi-Furnished   \n",
       "11                        Keshtopur  Kolkata       Unfurnished   \n",
       "12               Tarulia, Keshtopur  Kolkata         Furnished   \n",
       "13                    Dum Dum Metro  Kolkata       Unfurnished   \n",
       "14                  Paschim Barisha  Kolkata       Unfurnished   \n",
       "15           New Town Action Area 1  Kolkata         Furnished   \n",
       "16                          Barasat  Kolkata    Semi-Furnished   \n",
       "17                           Behala  Kolkata       Unfurnished   \n",
       "18                 Behala Chowrasta  Kolkata       Unfurnished   \n",
       "19                           Behala  Kolkata       Unfurnished   \n",
       "\n",
       "    Tenant Preferred  Bathroom Point of Contact  \n",
       "0   Bachelors/Family         2    Contact Owner  \n",
       "1   Bachelors/Family         1    Contact Owner  \n",
       "2   Bachelors/Family         1    Contact Owner  \n",
       "3   Bachelors/Family         1    Contact Owner  \n",
       "4          Bachelors         1    Contact Owner  \n",
       "5   Bachelors/Family         2    Contact Owner  \n",
       "6          Bachelors         2    Contact Agent  \n",
       "7          Bachelors         1    Contact Agent  \n",
       "8          Bachelors         2    Contact Agent  \n",
       "9   Bachelors/Family         2    Contact Owner  \n",
       "10  Bachelors/Family         2    Contact Agent  \n",
       "11  Bachelors/Family         1    Contact Agent  \n",
       "12         Bachelors         1    Contact Owner  \n",
       "13  Bachelors/Family         1    Contact Agent  \n",
       "14         Bachelors         2    Contact Owner  \n",
       "15  Bachelors/Family         2    Contact Owner  \n",
       "16  Bachelors/Family         1    Contact Owner  \n",
       "17  Bachelors/Family         1    Contact Owner  \n",
       "18  Bachelors/Family         1    Contact Owner  \n",
       "19  Bachelors/Family         1    Contact Owner  "
      ]
     },
     "execution_count": 911,
     "metadata": {},
     "output_type": "execute_result"
    }
   ],
   "source": [
    "index = 0\n",
    "\n",
    "def Floor_Score(row):\n",
    "    r = str(row).split(' out of ')\n",
    "    if len(r) == 1:\n",
    "        return None\n",
    "    try:\n",
    "        if 'GROUND' in str(r).upper():\n",
    "            r[0] = 1\n",
    "            # r[1] = int(r[1]) + 1\n",
    "            # print(r[0], r[1])\n",
    "\n",
    "        elif 'UPPER BASEMENT' in str(r).upper():\n",
    "            r[0] = 2\n",
    "            # r[1] = int(r[1]) + 2\n",
    "            # r[1] = int(r[1])\n",
    "        elif 'LOWER BASEMENT' in str(r).upper():\n",
    "            r[0] = 3\n",
    "            # r[1] = int(r[1]) + 3\n",
    "        else:\n",
    "            r[0] = int(r[0])\n",
    "            r[1] = int(r[1])\n",
    "        if int(r[0]) > int(r[1]):\n",
    "            return None\n",
    "\n",
    "        return int(r[0]) / int(r[1])\n",
    "    except:\n",
    "        print(\"Error\")\n",
    "    index += 1\n",
    "\n",
    "\n",
    "data['Floor'] = data['Floor'].apply(Floor_Score)\n",
    "data.dropna(subset=['Floor'], inplace=True)\n",
    "data.info()\n",
    "data.head(20)\n"
   ]
  },
  {
   "cell_type": "markdown",
   "id": "cbc24bf6",
   "metadata": {},
   "source": []
  },
  {
   "cell_type": "code",
   "execution_count": 912,
   "id": "39f511aa",
   "metadata": {},
   "outputs": [],
   "source": [
    "\n",
    "# data['Rent'] = data['Rent'].where(data['Rent'] < 0)\n",
    "# data['Rent'].head()"
   ]
  },
  {
   "cell_type": "code",
   "execution_count": 913,
   "id": "b27a9321-5107-4850-a961-87dc6f571649",
   "metadata": {},
   "outputs": [
    {
     "name": "stdout",
     "output_type": "stream",
     "text": [
      "<class 'pandas.core.frame.DataFrame'>\n",
      "Index: 4732 entries, 0 to 4745\n",
      "Data columns (total 12 columns):\n",
      " #   Column             Non-Null Count  Dtype  \n",
      "---  ------             --------------  -----  \n",
      " 0   Posted On          4732 non-null   object \n",
      " 1   BHK                4732 non-null   int64  \n",
      " 2   Rent               4732 non-null   int64  \n",
      " 3   Size               4732 non-null   int64  \n",
      " 4   Floor              4732 non-null   float64\n",
      " 5   Area Type          4732 non-null   object \n",
      " 6   Area Locality      4732 non-null   object \n",
      " 7   City               4732 non-null   object \n",
      " 8   Furnishing Status  4732 non-null   object \n",
      " 9   Tenant Preferred   4732 non-null   object \n",
      " 10  Bathroom           4732 non-null   int64  \n",
      " 11  Point of Contact   4732 non-null   object \n",
      "dtypes: float64(1), int64(4), object(7)\n",
      "memory usage: 480.6+ KB\n"
     ]
    }
   ],
   "source": [
    "data.info()"
   ]
  },
  {
   "cell_type": "markdown",
   "id": "c9cd0b9c-ce6f-4d05-925d-2632ce6ca045",
   "metadata": {},
   "source": [
    "**This concludes that there are no null values in the dataset**"
   ]
  },
  {
   "cell_type": "code",
   "execution_count": 914,
   "id": "534cd3c1-c195-4ddd-a545-ed17b8b641df",
   "metadata": {},
   "outputs": [
    {
     "data": {
      "text/plain": [
       "Posted On            0\n",
       "BHK                  0\n",
       "Rent                 0\n",
       "Size                 0\n",
       "Floor                0\n",
       "Area Type            0\n",
       "Area Locality        0\n",
       "City                 0\n",
       "Furnishing Status    0\n",
       "Tenant Preferred     0\n",
       "Bathroom             0\n",
       "Point of Contact     0\n",
       "dtype: int64"
      ]
     },
     "execution_count": 914,
     "metadata": {},
     "output_type": "execute_result"
    }
   ],
   "source": [
    "data.isnull().sum()"
   ]
  },
  {
   "cell_type": "markdown",
   "id": "63110338",
   "metadata": {},
   "source": [
    "### Data Analysis"
   ]
  },
  {
   "cell_type": "code",
   "execution_count": 915,
   "id": "706ad007-5ee9-4d67-b3a9-8e70de70b77f",
   "metadata": {},
   "outputs": [
    {
     "data": {
      "text/plain": [
       "<BarContainer object of 6 artists>"
      ]
     },
     "execution_count": 915,
     "metadata": {},
     "output_type": "execute_result"
    },
    {
     "data": {
      "image/png": "[encoded data removed]",
      "text/plain": [
       "<Figure size 640x480 with 1 Axes>"
      ]
     },
     "metadata": {},
     "output_type": "display_data"
    }
   ],
   "source": [
    "plt.bar(data['BHK'].value_counts().index, data['BHK'].value_counts().values)"
   ]
  },
  {
   "cell_type": "code",
   "execution_count": 916,
   "id": "11322047",
   "metadata": {},
   "outputs": [
    {
     "data": {
      "text/plain": [
       "<Axes: xlabel='BHK', ylabel='Rent'>"
      ]
     },
     "execution_count": 916,
     "metadata": {},
     "output_type": "execute_result"
    },
    {
     "data": {
      "image/png": "[encoded data removed]",
      "text/plain": [
       "<Figure size 640x480 with 1 Axes>"
      ]
     },
     "metadata": {},
     "output_type": "display_data"
    }
   ],
   "source": [
    "sns.lineplot(x=data['BHK'], y=data['Rent'], data=data)"
   ]
  },
  {
   "cell_type": "code",
   "execution_count": 917,
   "id": "0a31c12e",
   "metadata": {},
   "outputs": [],
   "source": [
    "sorted_date = data.sort_values(by='Posted On') \n",
    "# sorted_date.head(20)"
   ]
  },
  {
   "cell_type": "code",
   "execution_count": 918,
   "id": "1afd79c9",
   "metadata": {},
   "outputs": [
    {
     "data": {
      "text/plain": [
       "<Axes: xlabel='Posted On', ylabel='Rent'>"
      ]
     },
     "execution_count": 918,
     "metadata": {},
     "output_type": "execute_result"
    },
    {
     "data": {
      "image/png": "[encoded data removed]",
      "text/plain": [
       "<Figure size 640x480 with 1 Axes>"
      ]
     },
     "metadata": {},
     "output_type": "display_data"
    }
   ],
   "source": [
    "sns.set_theme(style=\"whitegrid\")\n",
    "sns.lineplot(x=sorted_date['Posted On'], y=sorted_date['Rent'], data=data)"
   ]
  },
  {
   "cell_type": "code",
   "execution_count": 919,
   "id": "6b79b7aa",
   "metadata": {},
   "outputs": [],
   "source": [
    "# plt.bar(data['Posted On'], data['Rent'])"
   ]
  },
  {
   "cell_type": "markdown",
   "id": "cdd47e25",
   "metadata": {},
   "source": [
    "# Preprocessing"
   ]
  },
  {
   "cell_type": "markdown",
   "id": "a7660fe4",
   "metadata": {},
   "source": [
    "## Logarithmic Transformation in Linear Regression Models\n",
    "\n",
    "https://dev.to/rokaandy/logarithmic-transformation-in-linear-regression-models-why-when-3a7c\n",
    "\n",
    "https://stats.stackexchange.com/questions/145383/getting-negative-predicted-values-after-linear-regression"
   ]
  },
  {
   "cell_type": "code",
   "execution_count": 936,
   "id": "218eaaae",
   "metadata": {},
   "outputs": [
    {
     "data": {
      "text/plain": [
       "Text(0.5, 0, 'Price')"
      ]
     },
     "execution_count": 936,
     "metadata": {},
     "output_type": "execute_result"
    },
    {
     "data": {
      "image/png": "[encoded data removed]",
      "text/plain": [
       "<Figure size 1000x500 with 1 Axes>"
      ]
     },
     "metadata": {},
     "output_type": "display_data"
    }
   ],
   "source": [
    "data.hist('Rent', figsize=(10, 5))\n",
    "plt.title('Number of houses vs Price')\n",
    "plt.ylabel('Number of Houses')\n",
    "plt.xlabel(\"Price\")"
   ]
  },
  {
   "cell_type": "markdown",
   "id": "a59ea09b",
   "metadata": {},
   "source": [
    "### After"
   ]
  },
  {
   "cell_type": "code",
   "execution_count": 921,
   "id": "4451cb6e",
   "metadata": {},
   "outputs": [
    {
     "data": {
      "text/plain": [
       "Text(0.5, 0, 'Price')"
      ]
     },
     "execution_count": 921,
     "metadata": {},
     "output_type": "execute_result"
    },
    {
     "data": {
      "image/png": "[encoded data removed]",
      "text/plain": [
       "<Figure size 1000x500 with 1 Axes>"
      ]
     },
     "metadata": {},
     "output_type": "display_data"
    }
   ],
   "source": [
    "data['Rent'] = np.log(data['Rent'])\n",
    "data.hist('Rent', figsize=(10, 5))\n",
    "plt.title('Number of houses vs Price')\n",
    "plt.ylabel('Number of Houses')\n",
    "plt.xlabel(\"Price\")"
   ]
  },
  {
   "cell_type": "markdown",
   "id": "e1920790",
   "metadata": {},
   "source": [
    "### Fixing some data for modelling"
   ]
  },
  {
   "cell_type": "markdown",
   "id": "49d5afff",
   "metadata": {},
   "source": [
    "**Converting all white spaces to undersdcore (_)**"
   ]
  },
  {
   "cell_type": "code",
   "execution_count": 922,
   "id": "bdd9f298",
   "metadata": {},
   "outputs": [],
   "source": [
    "# sorted_date['Area Locality'] = sorted_date['Area Locality'].replace(' ', '_')\n",
    "# sorted_date.head(20)"
   ]
  },
  {
   "cell_type": "markdown",
   "id": "2dc8156c",
   "metadata": {},
   "source": [
    "### One hot encoding "
   ]
  },
  {
   "cell_type": "code",
   "execution_count": 923,
   "id": "c2f80c87",
   "metadata": {},
   "outputs": [],
   "source": [
    "# def one_hot_encode(data, column):\n",
    "#  encoded = pd.get_dummies(data[column], drop_first= True)\n",
    "#  data = data.drop(column, axis = 1)\n",
    "#  data = data.join(encoded)\n",
    "#  return data"
   ]
  },
  {
   "cell_type": "code",
   "execution_count": 924,
   "id": "39bab96e",
   "metadata": {},
   "outputs": [],
   "source": [
    "def one_hot_encode(data, column):\n",
    " encoded = pd.get_dummies(data[column], drop_first= True)\n",
    " data = data.drop(column, axis = 1)\n",
    " data = data.join(encoded)\n",
    " return data"
   ]
  },
  {
   "cell_type": "code",
   "execution_count": 925,
   "id": "b4eebaed",
   "metadata": {},
   "outputs": [],
   "source": [
    "def one_hot_encode_AL(data, column):\n",
    " encoded = pd.get_dummies(data[column], drop_first= True)\n",
    " data = data.drop(column, axis = 1)\n",
    " data = data.merge(encoded, how='left')\n",
    " return data"
   ]
  },
  {
   "cell_type": "markdown",
   "id": "3a4c8d3b",
   "metadata": {},
   "source": [
    "### Adding values of Area Type and City"
   ]
  },
  {
   "cell_type": "code",
   "execution_count": 926,
   "id": "cda159ef",
   "metadata": {},
   "outputs": [
    {
     "data": {
      "text/html": [
       "<div>\n",
       "<style scoped>\n",
       "    .dataframe tbody tr th:only-of-type {\n",
       "        vertical-align: middle;\n",
       "    }\n",
       "\n",
       "    .dataframe tbody tr th {\n",
       "        vertical-align: top;\n",
       "    }\n",
       "\n",
       "    .dataframe thead th {\n",
       "        text-align: right;\n",
       "    }\n",
       "</style>\n",
       "<table border=\"1\" class=\"dataframe\">\n",
       "  <thead>\n",
       "    <tr style=\"text-align: right;\">\n",
       "      <th></th>\n",
       "      <th>BHK</th>\n",
       "      <th>Bathroom</th>\n",
       "      <th>Rent</th>\n",
       "      <th>Size</th>\n",
       "      <th>Floor</th>\n",
       "      <th>Semi-Furnished</th>\n",
       "      <th>Unfurnished</th>\n",
       "      <th>Chennai</th>\n",
       "      <th>Delhi</th>\n",
       "      <th>Hyderabad</th>\n",
       "      <th>Kolkata</th>\n",
       "      <th>Mumbai</th>\n",
       "      <th>Contact Builder</th>\n",
       "      <th>Contact Owner</th>\n",
       "      <th>Bachelors/Family</th>\n",
       "      <th>Family</th>\n",
       "    </tr>\n",
       "  </thead>\n",
       "  <tbody>\n",
       "    <tr>\n",
       "      <th>0</th>\n",
       "      <td>2</td>\n",
       "      <td>2</td>\n",
       "      <td>9.210340</td>\n",
       "      <td>1100</td>\n",
       "      <td>0.500000</td>\n",
       "      <td>False</td>\n",
       "      <td>True</td>\n",
       "      <td>False</td>\n",
       "      <td>False</td>\n",
       "      <td>False</td>\n",
       "      <td>True</td>\n",
       "      <td>False</td>\n",
       "      <td>False</td>\n",
       "      <td>True</td>\n",
       "      <td>True</td>\n",
       "      <td>False</td>\n",
       "    </tr>\n",
       "    <tr>\n",
       "      <th>1</th>\n",
       "      <td>2</td>\n",
       "      <td>1</td>\n",
       "      <td>9.903488</td>\n",
       "      <td>800</td>\n",
       "      <td>0.333333</td>\n",
       "      <td>True</td>\n",
       "      <td>False</td>\n",
       "      <td>False</td>\n",
       "      <td>False</td>\n",
       "      <td>False</td>\n",
       "      <td>True</td>\n",
       "      <td>False</td>\n",
       "      <td>False</td>\n",
       "      <td>True</td>\n",
       "      <td>True</td>\n",
       "      <td>False</td>\n",
       "    </tr>\n",
       "    <tr>\n",
       "      <th>2</th>\n",
       "      <td>2</td>\n",
       "      <td>1</td>\n",
       "      <td>9.740969</td>\n",
       "      <td>1000</td>\n",
       "      <td>0.333333</td>\n",
       "      <td>True</td>\n",
       "      <td>False</td>\n",
       "      <td>False</td>\n",
       "      <td>False</td>\n",
       "      <td>False</td>\n",
       "      <td>True</td>\n",
       "      <td>False</td>\n",
       "      <td>False</td>\n",
       "      <td>True</td>\n",
       "      <td>True</td>\n",
       "      <td>False</td>\n",
       "    </tr>\n",
       "    <tr>\n",
       "      <th>3</th>\n",
       "      <td>2</td>\n",
       "      <td>1</td>\n",
       "      <td>9.210340</td>\n",
       "      <td>800</td>\n",
       "      <td>0.500000</td>\n",
       "      <td>False</td>\n",
       "      <td>True</td>\n",
       "      <td>False</td>\n",
       "      <td>False</td>\n",
       "      <td>False</td>\n",
       "      <td>True</td>\n",
       "      <td>False</td>\n",
       "      <td>False</td>\n",
       "      <td>True</td>\n",
       "      <td>True</td>\n",
       "      <td>False</td>\n",
       "    </tr>\n",
       "    <tr>\n",
       "      <th>4</th>\n",
       "      <td>2</td>\n",
       "      <td>1</td>\n",
       "      <td>8.922658</td>\n",
       "      <td>850</td>\n",
       "      <td>0.500000</td>\n",
       "      <td>False</td>\n",
       "      <td>True</td>\n",
       "      <td>False</td>\n",
       "      <td>False</td>\n",
       "      <td>False</td>\n",
       "      <td>True</td>\n",
       "      <td>False</td>\n",
       "      <td>False</td>\n",
       "      <td>True</td>\n",
       "      <td>False</td>\n",
       "      <td>False</td>\n",
       "    </tr>\n",
       "    <tr>\n",
       "      <th>...</th>\n",
       "      <td>...</td>\n",
       "      <td>...</td>\n",
       "      <td>...</td>\n",
       "      <td>...</td>\n",
       "      <td>...</td>\n",
       "      <td>...</td>\n",
       "      <td>...</td>\n",
       "      <td>...</td>\n",
       "      <td>...</td>\n",
       "      <td>...</td>\n",
       "      <td>...</td>\n",
       "      <td>...</td>\n",
       "      <td>...</td>\n",
       "      <td>...</td>\n",
       "      <td>...</td>\n",
       "      <td>...</td>\n",
       "    </tr>\n",
       "    <tr>\n",
       "      <th>4741</th>\n",
       "      <td>2</td>\n",
       "      <td>2</td>\n",
       "      <td>9.615805</td>\n",
       "      <td>1000</td>\n",
       "      <td>0.600000</td>\n",
       "      <td>True</td>\n",
       "      <td>False</td>\n",
       "      <td>False</td>\n",
       "      <td>False</td>\n",
       "      <td>True</td>\n",
       "      <td>False</td>\n",
       "      <td>False</td>\n",
       "      <td>False</td>\n",
       "      <td>True</td>\n",
       "      <td>True</td>\n",
       "      <td>False</td>\n",
       "    </tr>\n",
       "    <tr>\n",
       "      <th>4742</th>\n",
       "      <td>3</td>\n",
       "      <td>3</td>\n",
       "      <td>10.275051</td>\n",
       "      <td>2000</td>\n",
       "      <td>0.250000</td>\n",
       "      <td>True</td>\n",
       "      <td>False</td>\n",
       "      <td>False</td>\n",
       "      <td>False</td>\n",
       "      <td>True</td>\n",
       "      <td>False</td>\n",
       "      <td>False</td>\n",
       "      <td>False</td>\n",
       "      <td>True</td>\n",
       "      <td>True</td>\n",
       "      <td>False</td>\n",
       "    </tr>\n",
       "    <tr>\n",
       "      <th>4743</th>\n",
       "      <td>3</td>\n",
       "      <td>3</td>\n",
       "      <td>10.463103</td>\n",
       "      <td>1750</td>\n",
       "      <td>0.600000</td>\n",
       "      <td>True</td>\n",
       "      <td>False</td>\n",
       "      <td>False</td>\n",
       "      <td>False</td>\n",
       "      <td>True</td>\n",
       "      <td>False</td>\n",
       "      <td>False</td>\n",
       "      <td>False</td>\n",
       "      <td>False</td>\n",
       "      <td>True</td>\n",
       "      <td>False</td>\n",
       "    </tr>\n",
       "    <tr>\n",
       "      <th>4744</th>\n",
       "      <td>3</td>\n",
       "      <td>2</td>\n",
       "      <td>10.714418</td>\n",
       "      <td>1500</td>\n",
       "      <td>0.676471</td>\n",
       "      <td>True</td>\n",
       "      <td>False</td>\n",
       "      <td>False</td>\n",
       "      <td>False</td>\n",
       "      <td>True</td>\n",
       "      <td>False</td>\n",
       "      <td>False</td>\n",
       "      <td>False</td>\n",
       "      <td>False</td>\n",
       "      <td>False</td>\n",
       "      <td>True</td>\n",
       "    </tr>\n",
       "    <tr>\n",
       "      <th>4745</th>\n",
       "      <td>2</td>\n",
       "      <td>2</td>\n",
       "      <td>9.615805</td>\n",
       "      <td>1000</td>\n",
       "      <td>0.800000</td>\n",
       "      <td>False</td>\n",
       "      <td>True</td>\n",
       "      <td>False</td>\n",
       "      <td>False</td>\n",
       "      <td>True</td>\n",
       "      <td>False</td>\n",
       "      <td>False</td>\n",
       "      <td>False</td>\n",
       "      <td>True</td>\n",
       "      <td>False</td>\n",
       "      <td>False</td>\n",
       "    </tr>\n",
       "  </tbody>\n",
       "</table>\n",
       "<p>4732 rows × 16 columns</p>\n",
       "</div>"
      ],
      "text/plain": [
       "      BHK  Bathroom       Rent  Size     Floor  Semi-Furnished  Unfurnished  \\\n",
       "0       2         2   9.210340  1100  0.500000           False         True   \n",
       "1       2         1   9.903488   800  0.333333            True        False   \n",
       "2       2         1   9.740969  1000  0.333333            True        False   \n",
       "3       2         1   9.210340   800  0.500000           False         True   \n",
       "4       2         1   8.922658   850  0.500000           False         True   \n",
       "...   ...       ...        ...   ...       ...             ...          ...   \n",
       "4741    2         2   9.615805  1000  0.600000            True        False   \n",
       "4742    3         3  10.275051  2000  0.250000            True        False   \n",
       "4743    3         3  10.463103  1750  0.600000            True        False   \n",
       "4744    3         2  10.714418  1500  0.676471            True        False   \n",
       "4745    2         2   9.615805  1000  0.800000           False         True   \n",
       "\n",
       "      Chennai  Delhi  Hyderabad  Kolkata  Mumbai  Contact Builder  \\\n",
       "0       False  False      False     True   False            False   \n",
       "1       False  False      False     True   False            False   \n",
       "2       False  False      False     True   False            False   \n",
       "3       False  False      False     True   False            False   \n",
       "4       False  False      False     True   False            False   \n",
       "...       ...    ...        ...      ...     ...              ...   \n",
       "4741    False  False       True    False   False            False   \n",
       "4742    False  False       True    False   False            False   \n",
       "4743    False  False       True    False   False            False   \n",
       "4744    False  False       True    False   False            False   \n",
       "4745    False  False       True    False   False            False   \n",
       "\n",
       "      Contact Owner  Bachelors/Family  Family  \n",
       "0              True              True   False  \n",
       "1              True              True   False  \n",
       "2              True              True   False  \n",
       "3              True              True   False  \n",
       "4              True             False   False  \n",
       "...             ...               ...     ...  \n",
       "4741           True              True   False  \n",
       "4742           True              True   False  \n",
       "4743          False              True   False  \n",
       "4744          False             False    True  \n",
       "4745           True             False   False  \n",
       "\n",
       "[4732 rows x 16 columns]"
      ]
     },
     "execution_count": 926,
     "metadata": {},
     "output_type": "execute_result"
    }
   ],
   "source": [
    "# data = sorted_date[['BHK', 'Bathroom', 'Furnishing Status', 'Rent', 'Area Type', 'City', 'Size', 'Point of Contact', 'Area Locality']]\n",
    "data = data[['BHK', 'Bathroom', 'Furnishing Status', 'Rent', 'City', 'Size', 'Tenant Preferred', 'Point of Contact', 'Floor']]\n",
    "data = one_hot_encode(data, 'Furnishing Status')\n",
    "data = one_hot_encode(data, 'City')\n",
    "data = one_hot_encode(data, 'Point of Contact')\n",
    "# data = one_hot_encode(data, 'Area Locality')\n",
    "data = one_hot_encode(data, 'Tenant Preferred')\n",
    "data"
   ]
  },
  {
   "cell_type": "markdown",
   "id": "0f4843f8",
   "metadata": {},
   "source": []
  },
  {
   "cell_type": "markdown",
   "id": "86222799",
   "metadata": {},
   "source": [
    "### Training and Test Spill"
   ]
  },
  {
   "cell_type": "code",
   "execution_count": 927,
   "id": "87370abe",
   "metadata": {},
   "outputs": [],
   "source": [
    "X = data.drop('Rent', axis= 1)\n",
    "y = data['Rent']"
   ]
  },
  {
   "cell_type": "code",
   "execution_count": 928,
   "id": "d31e72c1",
   "metadata": {},
   "outputs": [],
   "source": [
    "X_train, X_test, y_train, y_test = train_test_split(X, y, test_size= 0.2, random_state = 42)"
   ]
  },
  {
   "cell_type": "markdown",
   "id": "fcba0b95",
   "metadata": {},
   "source": [
    "### Standardize"
   ]
  },
  {
   "cell_type": "code",
   "execution_count": 929,
   "id": "a4e8edca",
   "metadata": {},
   "outputs": [
    {
     "name": "stdout",
     "output_type": "stream",
     "text": [
      "[[-1.30599065 -1.09274055 -1.3504788  ...  0.68882787 -1.63328983\n",
      "  -0.33014394]\n",
      " [-1.30599065 -1.09274055 -1.05859635 ... -1.45174149  0.61226121\n",
      "  -0.33014394]\n",
      " [ 1.09360868  1.15754399  0.99246953 ... -1.45174149  0.61226121\n",
      "  -0.33014394]\n",
      " ...\n",
      " [-0.10619099  0.03240172  0.20359804 ...  0.68882787  0.61226121\n",
      "  -0.33014394]\n",
      " [-1.30599065 -1.09274055 -0.59158442 ...  0.68882787  0.61226121\n",
      "  -0.33014394]\n",
      " [-0.10619099  0.03240172 -0.44327658 ... -1.45174149 -1.63328983\n",
      "  -0.33014394]]\n"
     ]
    }
   ],
   "source": [
    "# from sklearn.preprocessing import PolynomialFeatures -11k\n",
    "from sklearn.preprocessing import StandardScaler \n",
    "# 0.57\n",
    "# from sklearn.preprocessing import MinMaxScaler\n",
    "# 0.57\n",
    "from sklearn.preprocessing import RobustScaler \n",
    "# 0.57\n",
    "sc = StandardScaler()\n",
    "\n",
    "# sc = RobustScaler()\n",
    "X_train = sc.fit_transform(X_train)\n",
    "# X_test = sc.fit_transform(X_test)\n",
    "X_test = sc.transform(X_test)\n",
    "print(X_test)"
   ]
  },
  {
   "cell_type": "markdown",
   "id": "47d3e4cb",
   "metadata": {},
   "source": [
    "### Modeling "
   ]
  },
  {
   "cell_type": "code",
   "execution_count": 930,
   "id": "85768d15",
   "metadata": {},
   "outputs": [
    {
     "data": {
      "text/plain": [
       "array([ 2.05659615e-01,  1.42615303e-01,  2.56490926e-01, -7.06261448e-03,\n",
       "       -7.88906677e-02, -1.24105728e-01, -1.99067753e-02,  5.85419546e-02,\n",
       "       -6.26337391e-02, -9.08642148e-02,  3.82153654e-01,  1.59594560e-16,\n",
       "       -1.86357150e-01, -2.15735617e-02, -3.20544400e-02])"
      ]
     },
     "execution_count": 930,
     "metadata": {},
     "output_type": "execute_result"
    }
   ],
   "source": [
    "model = linear_model.LinearRegression()\n",
    "model.fit(X_train, y_train)\n",
    "model.coef_"
   ]
  },
  {
   "cell_type": "markdown",
   "id": "150b5c4a",
   "metadata": {},
   "source": [
    "### Quantitative Evaluation"
   ]
  },
  {
   "cell_type": "code",
   "execution_count": 931,
   "id": "c7c8e495",
   "metadata": {},
   "outputs": [
    {
     "name": "stdout",
     "output_type": "stream",
     "text": [
      "[ 8.75284054  8.93459574 10.50336002  9.78178589  9.89550278  9.70138122\n",
      " 10.32790166 11.86080715 10.85752537  9.31311187 10.13509814  9.2865499\n",
      "  8.65398848  8.85883156  8.74136413  9.24643711 10.21514278  9.44797223\n",
      "  9.01919708  8.58215762  9.36784014  8.84673408  8.76426216  9.53555913\n",
      "  9.49710786  9.75334553 10.72846366  9.68090046 10.55199527  9.02858214\n",
      "  9.67243762  8.86901086  8.91320857  8.64918364 10.5911761   9.19820175\n",
      " 10.22227887 12.63123839  9.3944021   9.87386991  8.96385554 10.45540036\n",
      "  9.68359332 10.00129141 10.94649352  8.8011831   9.51807653  9.5246003\n",
      " 11.12682036  9.13633945  9.00190801  9.05554962  9.31030145 11.89738954\n",
      "  8.9286588  10.77863955  9.92960023  8.82306929  9.42464366 10.02931634\n",
      "  9.44331581  9.24490649  9.29706159  9.38160904 11.09479455 11.77724633\n",
      "  9.49247141  9.10931821  8.99227527  9.31198318 10.77380818  9.19985937\n",
      " 10.77490425  9.23646699  9.51285041  9.40594639  9.38417598  9.60137692\n",
      "  9.52842591  9.47070101  9.21591593  9.06849628 10.55793221  9.70176446\n",
      "  9.41448763  8.73028739  9.10247105  8.71947794  9.89378291 10.08014302\n",
      "  8.48046429 10.06957727 11.49398986  8.74975448 10.32875005  9.97517468\n",
      "  9.03124633 10.65186577  8.88602007 10.30310703 11.38695577  8.57784107\n",
      "  9.42060556  9.55062935  8.99058449  9.69182348 10.64330474 10.18655447\n",
      "  9.25241035  9.80720816 12.0320212   8.96172296  9.80652305  9.6901192\n",
      "  9.34370831 10.00085737  9.44182444  9.90933115  9.2893313   9.05016217\n",
      " 10.93457124  8.75237392 11.61641508  9.56209093  8.6663176  11.60658311\n",
      " 10.15457415 10.78236469  9.40440982  9.12524853  8.70819709 10.56957454\n",
      "  9.63838984  9.0363765   9.87961466  9.56252922 10.86235022  9.65646509\n",
      " 10.81590472 11.02282183 10.69485859  9.41690734  9.36857859  8.72118142\n",
      " 11.71252356 10.12480688  9.42301493 10.18579615  9.70217178 11.04156335\n",
      "  9.2678503  10.30440574  9.35003281 10.48638191  9.19368109  9.80393709\n",
      "  9.51689717 10.5560466   9.36228002  9.98983219  9.1824074   8.6894625\n",
      " 11.49790342 10.82467445 11.66487793 10.09310807  8.73338727  9.47229793\n",
      "  9.42464366  9.56444847  8.8518769  11.1758159   9.43486978 10.30427737\n",
      " 10.44620115  8.82531855 10.20319182  9.69944624 10.79908994  9.98178255\n",
      "  9.35631799 10.82925394 10.14727363  9.84964219  9.95293395 10.38741516\n",
      "  9.38941077 11.40546739  8.97327993  9.50875348  9.31589693  8.86567188\n",
      "  8.61198424  8.98013761  9.13954219  9.57540942  9.12746059  9.75952745\n",
      "  9.42766941 10.57164227  9.34370831  9.70770573  8.67869036  9.96255531\n",
      "  9.32589251 10.58417977  9.56318065  8.8221873   9.23010094 10.11001335\n",
      " 10.96920268  9.03783623  9.75945559  9.6043178   8.90611151  9.74175442\n",
      "  9.73411787  9.56758868  9.53619141  9.64875244  9.72932791  9.30710726\n",
      " 10.89392955 11.44232197 10.53707766  9.41238668  9.87064803  9.58795505\n",
      "  8.90400465  8.85556011  9.63923597  9.6785997   8.88888981 11.1157729\n",
      " 10.39409154 10.0338057  10.15051033 10.88675686  9.47159299 10.91794813\n",
      " 10.7433976   9.39253608  8.85769503  9.90178462 10.14906174 10.81284443\n",
      "  8.55357818  9.18595004  9.48119489 10.10322499  9.42387384  8.87896842\n",
      "  9.44469419  9.45917886 10.50000549 11.951685    9.61926591  8.95135802\n",
      "  9.15300424  9.1161696  11.4471572  10.44189527 10.4330022   9.23384261\n",
      "  9.55317293 10.78380873  9.28690479  8.7599806  10.39336968  9.12297079\n",
      " 10.9107187   9.25765607 11.20213383 10.30125812  9.23273695 10.22079495\n",
      "  9.98574878 10.00327219 10.96964169 10.92599608 10.51556242  9.00432322\n",
      "  9.17919903 10.136738   10.35577444 10.27983463 11.56979913 10.79362112\n",
      "  8.92097266  9.39868366  9.59883902 10.5524534   9.05970368  9.48750757\n",
      " 10.78371713  9.16083395 10.41408319  9.44922187  9.78886865  9.8638771\n",
      "  8.9669086  10.68283174  9.44701241  9.28136194 10.98685974 10.031095\n",
      " 10.06120008  9.59820203 10.34257943 10.27049312  9.26156061  8.79145066\n",
      "  8.83348789  9.20916081  9.24647788  9.67586727  9.71290829 10.78074496\n",
      " 10.84624337 11.32186415  9.39013725 10.10859406  8.91479965 10.11203036\n",
      " 10.73603909 10.95357662 10.12381711  8.93204939  9.46389198  9.56553818\n",
      " 10.15310693  9.06595883  9.28690479  8.68482606 10.0514051   9.26890649\n",
      " 10.45749492  9.62137358 11.36368626 10.06248544  9.45164885 10.17703937\n",
      " 10.22965859  9.57990361  9.55085166 10.48552823 10.40364076  9.39966509\n",
      "  9.56318065 10.79507339  9.49276689  8.8011831  10.55849781  9.55269521\n",
      "  9.61027912  9.10951749  8.87402492  8.69660598 10.75406566  8.6989242\n",
      " 10.15410442  9.63212234 10.71654138  9.46047489  9.3896939  10.80702344\n",
      "  9.4161725   9.93090312  9.44701241  9.50009339  9.46833596 11.33066522\n",
      " 12.61596461 10.89821105  9.53258421  8.59370824  9.06764689  9.06966118\n",
      "  8.59807491  9.36353747  9.0455477  10.83440407  9.83198572  8.83679743\n",
      "  9.51675183  8.95690088 10.69949704 10.05382051  8.87042267  9.93692368\n",
      " 10.40168969  9.74108855  9.65712398  8.69614422  8.7948586   9.24330587\n",
      "  8.99516611  9.8832617  10.29567045  8.99827858 11.14465255 10.71507023\n",
      " 10.55908007 10.67684744 10.88392622  8.99687432  9.39404722  8.87042267\n",
      "  8.98556053 10.07619912 10.57025254 11.36362599 13.50920597 12.74080646\n",
      "  9.78466388 10.80497444 11.61076357  9.08110958  9.31705077  9.34370831\n",
      " 11.29666186 10.32179538  9.10549241 11.28986655  9.29617767 11.04605153\n",
      " 11.02081146 10.17504673  8.62628561 11.48587609 10.52708684  9.1030772\n",
      "  9.50806881 10.85071936  8.99635783  8.5917504   9.08990182  9.66332017\n",
      " 11.58340503  9.71363543  9.63094299  9.80520074  9.62842273 11.43374795\n",
      "  9.62816338  9.02070227  8.90743559 10.85464441 10.76074859  9.49211653\n",
      "  8.95205966  8.7667881  10.59475408 10.30499558 11.03075126  9.54927132\n",
      " 11.08233959  9.69431437  9.02717922  9.4822453   9.00895966 10.91904141\n",
      "  9.97577111  8.85152202  9.75334553  9.20269463  9.54938051 11.72541064\n",
      "  8.89030163  9.16711913  9.09767401  9.2982467   8.86578623  9.60691977\n",
      "  9.97659168  8.68022693  8.81509244  9.43974952  9.53831037 10.22307078\n",
      "  8.98013761  9.98697715  9.1832458   8.52713751 10.52476745  9.56945499\n",
      " 10.94440016 10.30446929  8.81509244  9.51513223 10.02764824  9.12669078\n",
      " 10.30024515 10.05650484  8.96695542 10.50332022  8.9592191   9.57481186\n",
      " 10.23403173  9.56781709 11.8055356  10.98772627 10.09610738 10.60535455\n",
      " 10.05285448  9.22785997 11.3219992   9.64346671  9.37026665  9.14742374\n",
      " 10.84020464  9.4292801   9.59582501  9.62209323 11.08868047  9.00710508\n",
      "  9.66098121  8.89920225 10.76659837 10.8354331   9.56945499  8.97864422\n",
      "  9.50417081 11.73890787  9.42237459  8.91010869  9.66129678  9.46515365\n",
      " 10.13307355 10.31209391  8.74866476  9.5174225   9.60572445  9.59674048\n",
      "  9.75232935 10.07221531  9.88348087  9.60691977  9.43773952 10.86986696\n",
      "  9.49500995  8.87012713 10.27952386  9.43915134 10.05603439  8.94349863\n",
      " 12.49686888  9.98489597 10.7381146  10.40624447  9.4380944  11.15845243\n",
      "  9.9091852   9.4448775  10.39051504 12.70487366 10.39334568 10.73477419\n",
      "  9.04479089 10.25537153  8.89920225 10.64861838  9.36786811 10.11428105\n",
      "  9.96763824 10.39527588  9.5562728   9.56903043 10.64962437  8.91089035\n",
      "  9.19573996  9.39868366  9.57804321  9.4165128   9.89396621 12.02262864\n",
      " 10.56207921  9.79964025 10.2585786  10.64232403 10.69402103  8.90625391\n",
      "  9.61387444 10.14459002  9.45938518 10.28420697 10.33550625  9.62082911\n",
      " 10.33455212  9.04108855  9.70613551  9.68565718 10.65591804  9.49931384\n",
      " 11.62011624 10.28094461  9.05476542  8.95019313  9.93350786 10.21493805\n",
      " 11.57972575  8.95135802 10.75059743  9.50711558  8.60239145  9.40239282\n",
      "  8.92348286  9.4990712   9.53032916  9.64970567  9.644116    9.26396949\n",
      "  9.60513527  9.04942734 10.30472633  9.12140439 11.11613544 10.44138785\n",
      "  9.61345414 10.11004265 11.02544895 10.30188713  8.92266072 11.54843341\n",
      "  9.1832126   9.24572108  9.85079478  9.40598959 11.7709784  11.0551579\n",
      "  9.1832458   9.14276117 11.05128824  9.03221836 11.01399476  9.31809958\n",
      "  9.30807272 10.57316791  9.87127819 10.59309757  9.43773952  9.26909746\n",
      " 10.36156643  9.31270917  9.46980711  9.4395443  11.40025968  9.28690479\n",
      "  9.91564074  9.29110033 10.80823527  9.98316667 10.18910936  9.71190113\n",
      "  8.84245251  9.34523394 12.06087449  9.16715846  8.84634896 10.44080221\n",
      " 11.90059884  9.33049151 12.17645372 10.85140215 10.28503497  8.98013761\n",
      " 10.85493191  8.82960012  9.5630803   9.93317116  9.12500272 10.50299705\n",
      " 12.93096266  9.01826122 10.79733028  8.87681614  8.67213339  9.6137013\n",
      "  8.94599444  9.03783623 11.29452     9.64970567 10.81187014 10.84397096\n",
      "  9.51090495 10.59626752  9.80148962  9.22812975 11.06222086  9.12019953\n",
      " 10.59608064  9.43173303  8.7667881   9.38781807 11.48640891 10.55215197\n",
      " 11.68420216  9.49247141  9.70968366 11.25414676  9.02549115 10.37970669\n",
      " 10.01761388  8.94183099  8.70356064  9.35003281  8.94994621 10.72608809\n",
      "  9.56090925  9.98009663  8.86025589  9.6333695   8.78783641  9.93467108\n",
      "  9.29080245  9.90053487  9.66038287  9.1007941   9.28883126  9.32564103\n",
      "  9.52794776 10.39892279  9.68458368 10.45426017  9.6780475   9.31103629\n",
      "  9.42237459  9.22617191 11.76692151  8.88211846  9.40750813 10.13480145\n",
      " 11.42388396  9.63410828 10.05935252 10.53119552 10.38593291 10.04936842\n",
      " 10.25468069 11.52425653 10.91904141  9.35919741 11.99054702  9.45979939\n",
      " 11.85414052 10.01053559  8.87274089  8.87579395  9.30847542 10.14309883\n",
      "  8.85438993  9.34173038  9.36088909 10.49824363 10.94674669  8.98013761\n",
      "  8.53104889  9.45664018  9.52613686  9.37566473 10.41091739  9.89009652\n",
      "  9.20916081  8.99968677  9.06958616 10.68089597  9.15200083 11.53624548\n",
      "  9.56635511 10.87284753 11.17025813  9.36552786  9.32641923  8.9940069\n",
      "  9.79136503 12.07144889  9.44886699 10.56027311 11.0018747   9.06997577\n",
      "  9.28473901 11.01828249 10.14795156  9.19829873  9.02172446  8.87984072\n",
      "  9.2565948  10.09888589  8.99529725  9.46974778  9.79004105 10.18891913\n",
      " 10.36891315  9.42787578 11.88335527  9.42000721  9.6619085   9.15321341\n",
      "  9.12886879  9.16237052  8.69614422  9.28121477  9.50044827  9.38055572\n",
      "  9.53530689 10.70106898  9.68182567 10.2570748   8.58460376 10.0291778\n",
      "  9.45804838  9.29908586  9.7665338   9.80505244  8.95826587  9.08309279\n",
      " 10.27117752  9.45437647 10.66538658  9.23611065  9.26785508  9.27264419\n",
      "  9.06595883 10.83037338 11.08744649 10.00196971 10.43034293 10.64878417\n",
      "  9.94244405  9.35257747  9.85462771 10.16699602 11.72428112 10.21463638\n",
      " 11.52233615 10.9760849   8.88138362  9.50673215 11.37174384  9.23583683\n",
      " 10.24985267  9.0204886   9.54517438 12.11411764  9.18848059 11.30935523\n",
      " 10.36909117 10.74191422  9.63550898  9.5315407   9.87280245  8.84313718\n",
      "  9.59427956  8.88274862 11.01283565  9.84962884  9.90059411  9.83965739\n",
      "  9.36909045  9.33171698  8.99671164  9.81129798  8.79098891 10.77262875\n",
      "  8.58581793 10.51906465  8.96788063 12.37224255 10.52301098  9.33408441\n",
      "  9.66241053 10.22785003  9.7740312   8.99736855  9.54612127  9.3707135\n",
      "  8.96385554 10.21626515 10.73544907  8.82949763  9.47188269  8.57615301\n",
      "  8.97713471 11.07619084  8.9644945   9.78439483 10.13245984 10.59805439\n",
      "  9.98426943 10.33238825  8.99569496 10.95249635 10.12602221 10.04905383\n",
      " 11.60082833 11.07053562  8.84959916  9.72687306 11.20053322 11.39992682\n",
      "  8.81502949 11.14307722  9.94225229  9.37414777 10.69883823 10.03070618\n",
      "  9.39684301  9.45962571  9.98754817 10.22086689  9.59050385  9.7957673\n",
      "  9.74660319 10.59142945  9.44641406  9.7157283   9.30868791  9.0137476\n",
      "  9.59490972  9.94157893  9.39367848  8.9693426  10.2365317   8.86114979\n",
      " 10.8175552   9.41118118 10.28691789 10.38116996 10.59144522 11.85171256\n",
      "  9.4424903  10.65583986  9.48823624  9.92527636  9.60955259  9.99248217\n",
      "  9.8771176   9.30291505  9.54604669  9.47302156 10.31198313  9.95613703\n",
      " 10.90324588  9.79201201  9.38941077 10.00106013 10.88373229]\n"
     ]
    }
   ],
   "source": [
    "y_preds = model.predict(X_test)\n",
    "print(y_preds)"
   ]
  },
  {
   "cell_type": "markdown",
   "id": "d9611c2a",
   "metadata": {},
   "source": [
    "#### The coefficients"
   ]
  },
  {
   "cell_type": "code",
   "execution_count": 932,
   "id": "d0a35b4c",
   "metadata": {},
   "outputs": [
    {
     "name": "stdout",
     "output_type": "stream",
     "text": [
      "Coefficients: \n",
      " [ 2.05659615e-01  1.42615303e-01  2.56490926e-01 -7.06261448e-03\n",
      " -7.88906677e-02 -1.24105728e-01 -1.99067753e-02  5.85419546e-02\n",
      " -6.26337391e-02 -9.08642148e-02  3.82153654e-01  1.59594560e-16\n",
      " -1.86357150e-01 -2.15735617e-02 -3.20544400e-02]\n"
     ]
    }
   ],
   "source": [
    "print(\"Coefficients: \\n\", model.coef_)"
   ]
  },
  {
   "cell_type": "markdown",
   "id": "596deaee",
   "metadata": {},
   "source": [
    "#### The mean squared error"
   ]
  },
  {
   "cell_type": "code",
   "execution_count": 933,
   "id": "b05c6565",
   "metadata": {},
   "outputs": [
    {
     "name": "stdout",
     "output_type": "stream",
     "text": [
      "Mean squared error: 0.14\n"
     ]
    }
   ],
   "source": [
    "print(\"Mean squared error: %.2f\" % mean_squared_error(y_test, y_preds))"
   ]
  },
  {
   "cell_type": "code",
   "execution_count": 934,
   "id": "413c62d5",
   "metadata": {},
   "outputs": [
    {
     "name": "stdout",
     "output_type": "stream",
     "text": [
      "Coefficient of determination: 0.84\n"
     ]
    }
   ],
   "source": [
    "print(\"Coefficient of determination: %.2f\" % r2_score(y_test, y_preds))"
   ]
  },
  {
   "cell_type": "markdown",
   "id": "407f7ffc",
   "metadata": {},
   "source": [
    "### Graph of the predicted and actual values"
   ]
  },
  {
   "cell_type": "code",
   "execution_count": 935,
   "id": "0a727d72",
   "metadata": {},
   "outputs": [
    {
     "data": {
      "text/plain": [
       "<matplotlib.legend.Legend at 0x1ee119abe00>"
      ]
     },
     "execution_count": 935,
     "metadata": {},
     "output_type": "execute_result"
    },
    {
     "data": {
      "image/png": "[encoded data removed]",
      "text/plain": [
       "<Figure size 1000x1000 with 1 Axes>"
      ]
     },
     "metadata": {},
     "output_type": "display_data"
    }
   ],
   "source": [
    "plt.figure(figsize=(10, 10))\n",
    "plt.scatter(y_test, y_preds, color='aquamarine', label='Predicted' )\n",
    "plt.plot(y_test, y_test, color='brown', linewidth=3, label='Actual')\n",
    "plt.legend()"
   ]
  }
 ],
 "metadata": {
  "kernelspec": {
   "display_name": "Python 3 (ipykernel)",
   "language": "python",
   "name": "python3"
  },
  "language_info": {
   "codemirror_mode": {
    "name": "ipython",
    "version": 3
   },
   "file_extension": ".py",
   "mimetype": "text/x-python",
   "name": "python",
   "nbconvert_exporter": "python",
   "pygments_lexer": "ipython3",
   "version": "3.12.1"
  }
 },
 "nbformat": 4,
 "nbformat_minor": 5
}
